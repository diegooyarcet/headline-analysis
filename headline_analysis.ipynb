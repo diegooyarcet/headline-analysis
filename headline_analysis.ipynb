{
  "nbformat": 4,
  "nbformat_minor": 0,
  "metadata": {
    "colab": {
      "provenance": [],
      "authorship_tag": "ABX9TyN9bomDmwEqMXAL+4BnO7uc",
      "include_colab_link": true
    },
    "kernelspec": {
      "name": "python3",
      "display_name": "Python 3"
    },
    "language_info": {
      "name": "python"
    }
  },
  "cells": [
    {
      "cell_type": "markdown",
      "metadata": {
        "id": "view-in-github",
        "colab_type": "text"
      },
      "source": [
        "<a href=\"https://colab.research.google.com/github/diegooyarcet/headline-analysis/blob/main/headline_analysis.ipynb\" target=\"_parent\"><img src=\"https://colab.research.google.com/assets/colab-badge.svg\" alt=\"Open In Colab\"/></a>"
      ]
    },
    {
      "cell_type": "markdown",
      "source": [
        "# Headline Analysis"
      ],
      "metadata": {
        "id": "-CTaUmnNxDl5"
      }
    },
    {
      "cell_type": "markdown",
      "source": [
        "## LA TERCERA\n",
        "### Objetivo: Analizar el lenguaje utilizado en los titulares del diario La Tercera, específicamente aquellos que se encuentran en la sección \"Lo Último\", enfocándose en identificar patrones, temas frecuentes y características lingüísticas.\n",
        "\n",
        "### Herramientas:\n",
        "* Python\n",
        "* NLTK\n",
        "* BeautifulSoup (bs4)\n",
        "* requests\n",
        "* matplotlib\n",
        "* re\n",
        "* pandas"
      ],
      "metadata": {
        "id": "ZEvjqzPTxN23"
      }
    },
    {
      "cell_type": "markdown",
      "source": [
        "### Obtención del conjunto de datos"
      ],
      "metadata": {
        "id": "6Kal_FxPY5BD"
      }
    },
    {
      "cell_type": "code",
      "execution_count": 1,
      "metadata": {
        "colab": {
          "base_uri": "https://localhost:8080/"
        },
        "id": "1V7C2GxHwIV5",
        "outputId": "c7f4e168-60bd-4333-975b-8ba16a553034"
      },
      "outputs": [
        {
          "output_type": "stream",
          "name": "stdout",
          "text": [
            "Requirement already satisfied: requests in /usr/local/lib/python3.11/dist-packages (2.32.3)\n",
            "Requirement already satisfied: beautifulsoup4 in /usr/local/lib/python3.11/dist-packages (4.12.3)\n",
            "Requirement already satisfied: pandas in /usr/local/lib/python3.11/dist-packages (2.2.2)\n",
            "Requirement already satisfied: charset-normalizer<4,>=2 in /usr/local/lib/python3.11/dist-packages (from requests) (3.4.1)\n",
            "Requirement already satisfied: idna<4,>=2.5 in /usr/local/lib/python3.11/dist-packages (from requests) (3.10)\n",
            "Requirement already satisfied: urllib3<3,>=1.21.1 in /usr/local/lib/python3.11/dist-packages (from requests) (2.3.0)\n",
            "Requirement already satisfied: certifi>=2017.4.17 in /usr/local/lib/python3.11/dist-packages (from requests) (2024.12.14)\n",
            "Requirement already satisfied: soupsieve>1.2 in /usr/local/lib/python3.11/dist-packages (from beautifulsoup4) (2.6)\n",
            "Requirement already satisfied: numpy>=1.23.2 in /usr/local/lib/python3.11/dist-packages (from pandas) (1.26.4)\n",
            "Requirement already satisfied: python-dateutil>=2.8.2 in /usr/local/lib/python3.11/dist-packages (from pandas) (2.8.2)\n",
            "Requirement already satisfied: pytz>=2020.1 in /usr/local/lib/python3.11/dist-packages (from pandas) (2024.2)\n",
            "Requirement already satisfied: tzdata>=2022.7 in /usr/local/lib/python3.11/dist-packages (from pandas) (2024.2)\n",
            "Requirement already satisfied: six>=1.5 in /usr/local/lib/python3.11/dist-packages (from python-dateutil>=2.8.2->pandas) (1.17.0)\n"
          ]
        }
      ],
      "source": [
        "!pip install requests beautifulsoup4 pandas"
      ]
    },
    {
      "cell_type": "code",
      "source": [
        "import requests\n",
        "import re\n",
        "from bs4 import BeautifulSoup\n",
        "import pandas as pd"
      ],
      "metadata": {
        "id": "HSp8QBgr3BZP"
      },
      "execution_count": 2,
      "outputs": []
    },
    {
      "cell_type": "code",
      "source": [
        "url = 'https://www.latercera.com/lo-ultimo'"
      ],
      "metadata": {
        "id": "__8Wp13D3Jom"
      },
      "execution_count": 3,
      "outputs": []
    },
    {
      "cell_type": "code",
      "source": [
        "df = pd.DataFrame(columns=['tag', 'headline'])"
      ],
      "metadata": {
        "id": "SG3Y3cVi_tDw"
      },
      "execution_count": 4,
      "outputs": []
    },
    {
      "cell_type": "code",
      "source": [
        "try:\n",
        "  response = requests.get(url)\n",
        "except Exception as exc:\n",
        "  print(f\"Error: {exc}\")"
      ],
      "metadata": {
        "id": "jXbScgat32ft"
      },
      "execution_count": 5,
      "outputs": []
    },
    {
      "cell_type": "code",
      "source": [
        "if response.status_code == 200:\n",
        "  print(\"Solicitud exitosa\")\n",
        "  html_content = response.text\n",
        "else:\n",
        "  print(f\"Error en la solicitud. Código de estado: {response.status_code}\")"
      ],
      "metadata": {
        "colab": {
          "base_uri": "https://localhost:8080/"
        },
        "id": "MM3D6fhV-SWZ",
        "outputId": "37b66c56-d601-4686-be99-9586aecbe91e"
      },
      "execution_count": 6,
      "outputs": [
        {
          "output_type": "stream",
          "name": "stdout",
          "text": [
            "Solicitud exitosa\n"
          ]
        }
      ]
    },
    {
      "cell_type": "code",
      "source": [
        "lo_ultimo = BeautifulSoup(html_content, 'html.parser')\n",
        "paginator = lo_ultimo.find('div', class_='pagination')\n",
        "nav_paginator = paginator.find('nav')\n",
        "ul_paginator = nav_paginator.find('ul')\n",
        "pagination_info = ul_paginator.find('li', class_='pagination-info')\n",
        "text_pagination_info = pagination_info.get_text(strip=True)\n",
        "match = re.search(r\"de\\s+(\\d+)\", text_pagination_info)\n",
        "\n",
        "if match:\n",
        "  total_paginas = int(match.group(1))\n",
        "  print(f\"Número total de páginas: {total_paginas}\")\n",
        "else:\n",
        "  print(\"No se encontró el patrón de número de páginas en el texto.\")"
      ],
      "metadata": {
        "colab": {
          "base_uri": "https://localhost:8080/"
        },
        "id": "aLSf6YA06iTj",
        "outputId": "d9a0bde6-28fe-40e6-a581-04ca0b196dd2"
      },
      "execution_count": 7,
      "outputs": [
        {
          "output_type": "stream",
          "name": "stdout",
          "text": [
            "Número total de páginas: 667\n"
          ]
        }
      ]
    },
    {
      "cell_type": "code",
      "source": [
        "df = df[0:0]"
      ],
      "metadata": {
        "id": "gd0RZo9GFmpV"
      },
      "execution_count": 8,
      "outputs": []
    },
    {
      "cell_type": "code",
      "source": [
        "# total_paginas = 2\n",
        "for pagina in range(1, total_paginas + 1):\n",
        "  print(f\"PÁGINA {pagina}\")\n",
        "  url_pagina = f\"{url}/page/{pagina}\"\n",
        "  response = requests.get(url_pagina)\n",
        "\n",
        "  if response.status_code == 200:\n",
        "    html_lo_ultimo = response.text\n",
        "    soup_lo_ultimo = BeautifulSoup(html_lo_ultimo, 'html.parser')\n",
        "\n",
        "    if soup_lo_ultimo:\n",
        "      section_lo_ultimo = soup_lo_ultimo.find('section', class_='top-mainy')\n",
        "\n",
        "      if section_lo_ultimo:\n",
        "        div_headlines = section_lo_ultimo.find_all('div', class_='headline | width_full hl')\n",
        "\n",
        "        if len(div_headlines) > 0:\n",
        "          for headline in div_headlines:\n",
        "            tag = ''\n",
        "            titular = ''\n",
        "            h3_headline = headline.find('h3')\n",
        "\n",
        "            if h3_headline:\n",
        "              anchor_headline = h3_headline.find('a')\n",
        "\n",
        "              if anchor_headline:\n",
        "                tag_element = anchor_headline.find('span', class_='tag')\n",
        "\n",
        "                if tag_element:\n",
        "                  tag = tag_element.get_text(strip=True)\n",
        "                else:\n",
        "                  tag = ''\n",
        "                  print(\"No hay tag\")\n",
        "\n",
        "                titular = anchor_headline.get_text(strip=True)\n",
        "\n",
        "                if titular:\n",
        "                  titular = titular.replace(tag, '', 1).strip()\n",
        "                else:\n",
        "                  titular = ''\n",
        "                  print(\"No hay titular\")\n",
        "\n",
        "                df.loc[len(df)] = [tag, titular]\n",
        "              else:\n",
        "                print(\"No se encontró el h3\")\n",
        "            else:\n",
        "              print(\"No se encontró el anchor\")\n",
        "        else:\n",
        "          print(f\"No se encontraron titulares en la página {pagina}\")\n",
        "      else:\n",
        "        print(f\"No se encontró el section de títulares de la página {pagina}\")\n",
        "    else:\n",
        "      print(f\"No se encontro el soup de la página {pagina}\")\n",
        "  else:\n",
        "    print(f\"No se pudo acceder a la página: {url_pagina}\")\n",
        "\n",
        "print(df)"
      ],
      "metadata": {
        "id": "RzsjtPlw-ir6",
        "colab": {
          "base_uri": "https://localhost:8080/"
        },
        "collapsed": true,
        "outputId": "ec6544f8-6a5b-4d4b-9cb7-ecb18e8d421a"
      },
      "execution_count": 9,
      "outputs": [
        {
          "output_type": "stream",
          "name": "stdout",
          "text": [
            "PÁGINA 1\n",
            "PÁGINA 2\n",
            "PÁGINA 3\n",
            "PÁGINA 4\n",
            "PÁGINA 5\n",
            "PÁGINA 6\n",
            "PÁGINA 7\n",
            "PÁGINA 8\n",
            "PÁGINA 9\n",
            "PÁGINA 10\n",
            "PÁGINA 11\n",
            "PÁGINA 12\n",
            "PÁGINA 13\n",
            "PÁGINA 14\n",
            "PÁGINA 15\n",
            "PÁGINA 16\n",
            "PÁGINA 17\n",
            "PÁGINA 18\n",
            "PÁGINA 19\n",
            "PÁGINA 20\n",
            "PÁGINA 21\n",
            "PÁGINA 22\n",
            "PÁGINA 23\n",
            "PÁGINA 24\n",
            "PÁGINA 25\n",
            "PÁGINA 26\n",
            "PÁGINA 27\n",
            "PÁGINA 28\n",
            "PÁGINA 29\n",
            "PÁGINA 30\n",
            "PÁGINA 31\n",
            "PÁGINA 32\n",
            "PÁGINA 33\n",
            "PÁGINA 34\n",
            "PÁGINA 35\n",
            "PÁGINA 36\n",
            "PÁGINA 37\n",
            "PÁGINA 38\n",
            "PÁGINA 39\n",
            "PÁGINA 40\n",
            "PÁGINA 41\n",
            "PÁGINA 42\n",
            "PÁGINA 43\n",
            "PÁGINA 44\n",
            "PÁGINA 45\n",
            "PÁGINA 46\n",
            "PÁGINA 47\n",
            "PÁGINA 48\n",
            "PÁGINA 49\n",
            "PÁGINA 50\n",
            "PÁGINA 51\n",
            "PÁGINA 52\n",
            "PÁGINA 53\n",
            "PÁGINA 54\n",
            "PÁGINA 55\n",
            "PÁGINA 56\n",
            "PÁGINA 57\n",
            "PÁGINA 58\n",
            "PÁGINA 59\n",
            "PÁGINA 60\n",
            "PÁGINA 61\n",
            "PÁGINA 62\n",
            "PÁGINA 63\n",
            "PÁGINA 64\n",
            "PÁGINA 65\n",
            "PÁGINA 66\n",
            "PÁGINA 67\n",
            "PÁGINA 68\n",
            "PÁGINA 69\n",
            "PÁGINA 70\n",
            "PÁGINA 71\n",
            "PÁGINA 72\n",
            "PÁGINA 73\n",
            "PÁGINA 74\n",
            "PÁGINA 75\n",
            "PÁGINA 76\n",
            "PÁGINA 77\n",
            "PÁGINA 78\n",
            "PÁGINA 79\n",
            "PÁGINA 80\n",
            "PÁGINA 81\n",
            "PÁGINA 82\n",
            "PÁGINA 83\n",
            "PÁGINA 84\n",
            "PÁGINA 85\n",
            "PÁGINA 86\n",
            "PÁGINA 87\n",
            "PÁGINA 88\n",
            "PÁGINA 89\n",
            "PÁGINA 90\n",
            "PÁGINA 91\n",
            "PÁGINA 92\n",
            "PÁGINA 93\n",
            "PÁGINA 94\n",
            "PÁGINA 95\n",
            "PÁGINA 96\n",
            "PÁGINA 97\n",
            "PÁGINA 98\n",
            "PÁGINA 99\n",
            "PÁGINA 100\n",
            "PÁGINA 101\n",
            "PÁGINA 102\n",
            "PÁGINA 103\n",
            "PÁGINA 104\n",
            "PÁGINA 105\n",
            "PÁGINA 106\n",
            "PÁGINA 107\n",
            "PÁGINA 108\n",
            "PÁGINA 109\n",
            "PÁGINA 110\n",
            "PÁGINA 111\n",
            "PÁGINA 112\n",
            "PÁGINA 113\n",
            "PÁGINA 114\n",
            "PÁGINA 115\n",
            "PÁGINA 116\n",
            "PÁGINA 117\n",
            "PÁGINA 118\n",
            "PÁGINA 119\n",
            "PÁGINA 120\n",
            "PÁGINA 121\n",
            "PÁGINA 122\n",
            "PÁGINA 123\n",
            "PÁGINA 124\n",
            "PÁGINA 125\n",
            "PÁGINA 126\n",
            "PÁGINA 127\n",
            "PÁGINA 128\n",
            "PÁGINA 129\n",
            "PÁGINA 130\n",
            "PÁGINA 131\n",
            "PÁGINA 132\n",
            "PÁGINA 133\n",
            "PÁGINA 134\n",
            "PÁGINA 135\n",
            "PÁGINA 136\n",
            "PÁGINA 137\n",
            "PÁGINA 138\n",
            "PÁGINA 139\n",
            "PÁGINA 140\n",
            "PÁGINA 141\n",
            "PÁGINA 142\n",
            "PÁGINA 143\n",
            "PÁGINA 144\n",
            "PÁGINA 145\n",
            "PÁGINA 146\n",
            "PÁGINA 147\n",
            "PÁGINA 148\n",
            "PÁGINA 149\n",
            "PÁGINA 150\n",
            "PÁGINA 151\n",
            "PÁGINA 152\n",
            "PÁGINA 153\n",
            "PÁGINA 154\n",
            "PÁGINA 155\n",
            "PÁGINA 156\n",
            "PÁGINA 157\n",
            "PÁGINA 158\n",
            "PÁGINA 159\n",
            "PÁGINA 160\n",
            "PÁGINA 161\n",
            "PÁGINA 162\n",
            "PÁGINA 163\n",
            "PÁGINA 164\n",
            "PÁGINA 165\n",
            "PÁGINA 166\n",
            "PÁGINA 167\n",
            "PÁGINA 168\n",
            "PÁGINA 169\n",
            "PÁGINA 170\n",
            "PÁGINA 171\n",
            "PÁGINA 172\n",
            "PÁGINA 173\n",
            "PÁGINA 174\n",
            "PÁGINA 175\n",
            "PÁGINA 176\n",
            "PÁGINA 177\n",
            "PÁGINA 178\n",
            "PÁGINA 179\n",
            "PÁGINA 180\n",
            "PÁGINA 181\n",
            "PÁGINA 182\n",
            "PÁGINA 183\n",
            "PÁGINA 184\n",
            "PÁGINA 185\n",
            "PÁGINA 186\n",
            "PÁGINA 187\n",
            "PÁGINA 188\n",
            "PÁGINA 189\n",
            "PÁGINA 190\n",
            "PÁGINA 191\n",
            "PÁGINA 192\n",
            "PÁGINA 193\n",
            "PÁGINA 194\n",
            "PÁGINA 195\n",
            "PÁGINA 196\n",
            "PÁGINA 197\n",
            "PÁGINA 198\n",
            "PÁGINA 199\n",
            "PÁGINA 200\n",
            "PÁGINA 201\n",
            "PÁGINA 202\n",
            "PÁGINA 203\n",
            "PÁGINA 204\n",
            "PÁGINA 205\n",
            "PÁGINA 206\n",
            "PÁGINA 207\n",
            "PÁGINA 208\n",
            "PÁGINA 209\n",
            "PÁGINA 210\n",
            "PÁGINA 211\n",
            "PÁGINA 212\n",
            "PÁGINA 213\n",
            "PÁGINA 214\n",
            "PÁGINA 215\n",
            "PÁGINA 216\n",
            "PÁGINA 217\n",
            "PÁGINA 218\n",
            "PÁGINA 219\n",
            "PÁGINA 220\n",
            "PÁGINA 221\n",
            "PÁGINA 222\n",
            "PÁGINA 223\n",
            "PÁGINA 224\n",
            "PÁGINA 225\n",
            "PÁGINA 226\n",
            "PÁGINA 227\n",
            "PÁGINA 228\n",
            "PÁGINA 229\n",
            "PÁGINA 230\n",
            "PÁGINA 231\n",
            "PÁGINA 232\n",
            "PÁGINA 233\n",
            "PÁGINA 234\n",
            "PÁGINA 235\n",
            "PÁGINA 236\n",
            "PÁGINA 237\n",
            "PÁGINA 238\n",
            "PÁGINA 239\n",
            "PÁGINA 240\n",
            "PÁGINA 241\n",
            "PÁGINA 242\n",
            "PÁGINA 243\n",
            "PÁGINA 244\n",
            "PÁGINA 245\n",
            "PÁGINA 246\n",
            "PÁGINA 247\n",
            "PÁGINA 248\n",
            "PÁGINA 249\n",
            "PÁGINA 250\n",
            "PÁGINA 251\n",
            "PÁGINA 252\n",
            "PÁGINA 253\n",
            "PÁGINA 254\n",
            "PÁGINA 255\n",
            "PÁGINA 256\n",
            "PÁGINA 257\n",
            "PÁGINA 258\n",
            "PÁGINA 259\n",
            "PÁGINA 260\n",
            "PÁGINA 261\n",
            "PÁGINA 262\n",
            "PÁGINA 263\n",
            "PÁGINA 264\n",
            "PÁGINA 265\n",
            "PÁGINA 266\n",
            "PÁGINA 267\n",
            "PÁGINA 268\n",
            "PÁGINA 269\n",
            "PÁGINA 270\n",
            "PÁGINA 271\n",
            "PÁGINA 272\n",
            "PÁGINA 273\n",
            "PÁGINA 274\n",
            "PÁGINA 275\n",
            "PÁGINA 276\n",
            "PÁGINA 277\n",
            "PÁGINA 278\n",
            "PÁGINA 279\n",
            "PÁGINA 280\n",
            "PÁGINA 281\n",
            "PÁGINA 282\n",
            "PÁGINA 283\n",
            "PÁGINA 284\n",
            "PÁGINA 285\n",
            "PÁGINA 286\n",
            "PÁGINA 287\n",
            "PÁGINA 288\n",
            "PÁGINA 289\n",
            "PÁGINA 290\n",
            "PÁGINA 291\n",
            "PÁGINA 292\n",
            "PÁGINA 293\n",
            "PÁGINA 294\n",
            "PÁGINA 295\n",
            "PÁGINA 296\n",
            "PÁGINA 297\n",
            "PÁGINA 298\n",
            "PÁGINA 299\n",
            "PÁGINA 300\n",
            "PÁGINA 301\n",
            "PÁGINA 302\n",
            "PÁGINA 303\n",
            "PÁGINA 304\n",
            "PÁGINA 305\n",
            "PÁGINA 306\n",
            "PÁGINA 307\n",
            "PÁGINA 308\n",
            "PÁGINA 309\n",
            "PÁGINA 310\n",
            "PÁGINA 311\n",
            "PÁGINA 312\n",
            "PÁGINA 313\n",
            "PÁGINA 314\n",
            "PÁGINA 315\n",
            "PÁGINA 316\n",
            "PÁGINA 317\n",
            "PÁGINA 318\n",
            "PÁGINA 319\n",
            "PÁGINA 320\n",
            "PÁGINA 321\n",
            "PÁGINA 322\n",
            "PÁGINA 323\n",
            "PÁGINA 324\n",
            "PÁGINA 325\n",
            "PÁGINA 326\n",
            "PÁGINA 327\n",
            "PÁGINA 328\n",
            "PÁGINA 329\n",
            "PÁGINA 330\n",
            "PÁGINA 331\n",
            "PÁGINA 332\n",
            "PÁGINA 333\n",
            "PÁGINA 334\n",
            "PÁGINA 335\n",
            "PÁGINA 336\n",
            "PÁGINA 337\n",
            "PÁGINA 338\n",
            "PÁGINA 339\n",
            "PÁGINA 340\n",
            "PÁGINA 341\n",
            "PÁGINA 342\n",
            "PÁGINA 343\n",
            "PÁGINA 344\n",
            "PÁGINA 345\n",
            "PÁGINA 346\n",
            "PÁGINA 347\n",
            "PÁGINA 348\n",
            "PÁGINA 349\n",
            "PÁGINA 350\n",
            "PÁGINA 351\n",
            "PÁGINA 352\n",
            "PÁGINA 353\n",
            "PÁGINA 354\n",
            "PÁGINA 355\n",
            "PÁGINA 356\n",
            "PÁGINA 357\n",
            "PÁGINA 358\n",
            "PÁGINA 359\n",
            "PÁGINA 360\n",
            "PÁGINA 361\n",
            "PÁGINA 362\n",
            "PÁGINA 363\n",
            "PÁGINA 364\n",
            "PÁGINA 365\n",
            "PÁGINA 366\n",
            "PÁGINA 367\n",
            "PÁGINA 368\n",
            "PÁGINA 369\n",
            "PÁGINA 370\n",
            "PÁGINA 371\n",
            "PÁGINA 372\n",
            "PÁGINA 373\n",
            "PÁGINA 374\n",
            "PÁGINA 375\n",
            "PÁGINA 376\n",
            "PÁGINA 377\n",
            "PÁGINA 378\n",
            "PÁGINA 379\n",
            "PÁGINA 380\n",
            "PÁGINA 381\n",
            "PÁGINA 382\n",
            "PÁGINA 383\n",
            "PÁGINA 384\n",
            "PÁGINA 385\n",
            "PÁGINA 386\n",
            "PÁGINA 387\n",
            "PÁGINA 388\n",
            "PÁGINA 389\n",
            "PÁGINA 390\n",
            "PÁGINA 391\n",
            "PÁGINA 392\n",
            "PÁGINA 393\n",
            "PÁGINA 394\n",
            "PÁGINA 395\n",
            "PÁGINA 396\n",
            "PÁGINA 397\n",
            "PÁGINA 398\n",
            "PÁGINA 399\n",
            "PÁGINA 400\n",
            "PÁGINA 401\n",
            "PÁGINA 402\n",
            "PÁGINA 403\n",
            "PÁGINA 404\n",
            "PÁGINA 405\n",
            "PÁGINA 406\n",
            "PÁGINA 407\n",
            "PÁGINA 408\n",
            "PÁGINA 409\n",
            "PÁGINA 410\n",
            "PÁGINA 411\n",
            "PÁGINA 412\n",
            "PÁGINA 413\n",
            "PÁGINA 414\n",
            "PÁGINA 415\n",
            "PÁGINA 416\n",
            "PÁGINA 417\n",
            "PÁGINA 418\n",
            "PÁGINA 419\n",
            "PÁGINA 420\n",
            "PÁGINA 421\n",
            "PÁGINA 422\n",
            "PÁGINA 423\n",
            "PÁGINA 424\n",
            "PÁGINA 425\n",
            "PÁGINA 426\n",
            "PÁGINA 427\n",
            "PÁGINA 428\n",
            "PÁGINA 429\n",
            "PÁGINA 430\n",
            "PÁGINA 431\n",
            "PÁGINA 432\n",
            "PÁGINA 433\n",
            "PÁGINA 434\n",
            "PÁGINA 435\n",
            "PÁGINA 436\n",
            "PÁGINA 437\n",
            "PÁGINA 438\n",
            "PÁGINA 439\n",
            "PÁGINA 440\n",
            "PÁGINA 441\n",
            "PÁGINA 442\n",
            "PÁGINA 443\n",
            "PÁGINA 444\n",
            "PÁGINA 445\n",
            "PÁGINA 446\n",
            "PÁGINA 447\n",
            "PÁGINA 448\n",
            "PÁGINA 449\n",
            "PÁGINA 450\n",
            "PÁGINA 451\n",
            "PÁGINA 452\n",
            "PÁGINA 453\n",
            "PÁGINA 454\n",
            "PÁGINA 455\n",
            "PÁGINA 456\n",
            "PÁGINA 457\n",
            "PÁGINA 458\n",
            "PÁGINA 459\n",
            "PÁGINA 460\n",
            "PÁGINA 461\n",
            "PÁGINA 462\n",
            "PÁGINA 463\n",
            "PÁGINA 464\n",
            "PÁGINA 465\n",
            "PÁGINA 466\n",
            "PÁGINA 467\n",
            "PÁGINA 468\n",
            "PÁGINA 469\n",
            "PÁGINA 470\n",
            "PÁGINA 471\n",
            "PÁGINA 472\n",
            "PÁGINA 473\n",
            "PÁGINA 474\n",
            "PÁGINA 475\n",
            "PÁGINA 476\n",
            "PÁGINA 477\n",
            "PÁGINA 478\n",
            "PÁGINA 479\n",
            "PÁGINA 480\n",
            "PÁGINA 481\n",
            "PÁGINA 482\n",
            "PÁGINA 483\n",
            "PÁGINA 484\n",
            "PÁGINA 485\n",
            "PÁGINA 486\n",
            "PÁGINA 487\n",
            "PÁGINA 488\n",
            "PÁGINA 489\n",
            "PÁGINA 490\n",
            "PÁGINA 491\n",
            "PÁGINA 492\n",
            "PÁGINA 493\n",
            "PÁGINA 494\n",
            "PÁGINA 495\n",
            "PÁGINA 496\n",
            "PÁGINA 497\n",
            "PÁGINA 498\n",
            "PÁGINA 499\n",
            "PÁGINA 500\n",
            "PÁGINA 501\n",
            "PÁGINA 502\n",
            "PÁGINA 503\n",
            "PÁGINA 504\n",
            "PÁGINA 505\n",
            "PÁGINA 506\n",
            "PÁGINA 507\n",
            "PÁGINA 508\n",
            "PÁGINA 509\n",
            "PÁGINA 510\n",
            "PÁGINA 511\n",
            "PÁGINA 512\n",
            "PÁGINA 513\n",
            "PÁGINA 514\n",
            "PÁGINA 515\n",
            "PÁGINA 516\n",
            "PÁGINA 517\n",
            "PÁGINA 518\n",
            "PÁGINA 519\n",
            "PÁGINA 520\n",
            "PÁGINA 521\n",
            "PÁGINA 522\n",
            "PÁGINA 523\n",
            "PÁGINA 524\n",
            "PÁGINA 525\n",
            "PÁGINA 526\n",
            "PÁGINA 527\n",
            "PÁGINA 528\n",
            "PÁGINA 529\n",
            "PÁGINA 530\n",
            "PÁGINA 531\n",
            "PÁGINA 532\n",
            "PÁGINA 533\n",
            "PÁGINA 534\n",
            "PÁGINA 535\n",
            "PÁGINA 536\n",
            "PÁGINA 537\n",
            "PÁGINA 538\n",
            "PÁGINA 539\n",
            "PÁGINA 540\n",
            "PÁGINA 541\n",
            "PÁGINA 542\n",
            "PÁGINA 543\n",
            "PÁGINA 544\n",
            "PÁGINA 545\n",
            "PÁGINA 546\n",
            "PÁGINA 547\n",
            "PÁGINA 548\n",
            "PÁGINA 549\n",
            "PÁGINA 550\n",
            "PÁGINA 551\n",
            "PÁGINA 552\n",
            "PÁGINA 553\n",
            "PÁGINA 554\n",
            "PÁGINA 555\n",
            "PÁGINA 556\n",
            "PÁGINA 557\n",
            "PÁGINA 558\n",
            "PÁGINA 559\n",
            "PÁGINA 560\n",
            "PÁGINA 561\n",
            "PÁGINA 562\n",
            "PÁGINA 563\n",
            "PÁGINA 564\n",
            "PÁGINA 565\n",
            "PÁGINA 566\n",
            "PÁGINA 567\n",
            "PÁGINA 568\n",
            "PÁGINA 569\n",
            "PÁGINA 570\n",
            "PÁGINA 571\n",
            "PÁGINA 572\n",
            "PÁGINA 573\n",
            "PÁGINA 574\n",
            "PÁGINA 575\n",
            "PÁGINA 576\n",
            "PÁGINA 577\n",
            "PÁGINA 578\n",
            "PÁGINA 579\n",
            "PÁGINA 580\n",
            "PÁGINA 581\n",
            "PÁGINA 582\n",
            "PÁGINA 583\n",
            "PÁGINA 584\n",
            "PÁGINA 585\n",
            "PÁGINA 586\n",
            "PÁGINA 587\n",
            "PÁGINA 588\n",
            "PÁGINA 589\n",
            "PÁGINA 590\n",
            "PÁGINA 591\n",
            "PÁGINA 592\n",
            "PÁGINA 593\n",
            "PÁGINA 594\n",
            "PÁGINA 595\n",
            "PÁGINA 596\n",
            "PÁGINA 597\n",
            "PÁGINA 598\n",
            "PÁGINA 599\n",
            "PÁGINA 600\n",
            "PÁGINA 601\n",
            "PÁGINA 602\n",
            "PÁGINA 603\n",
            "PÁGINA 604\n",
            "PÁGINA 605\n",
            "PÁGINA 606\n",
            "PÁGINA 607\n",
            "PÁGINA 608\n",
            "PÁGINA 609\n",
            "PÁGINA 610\n",
            "PÁGINA 611\n",
            "PÁGINA 612\n",
            "PÁGINA 613\n",
            "PÁGINA 614\n",
            "PÁGINA 615\n",
            "PÁGINA 616\n",
            "PÁGINA 617\n",
            "PÁGINA 618\n",
            "PÁGINA 619\n",
            "PÁGINA 620\n",
            "PÁGINA 621\n",
            "PÁGINA 622\n",
            "PÁGINA 623\n",
            "PÁGINA 624\n",
            "PÁGINA 625\n",
            "PÁGINA 626\n",
            "PÁGINA 627\n",
            "PÁGINA 628\n",
            "PÁGINA 629\n",
            "PÁGINA 630\n",
            "PÁGINA 631\n",
            "PÁGINA 632\n",
            "PÁGINA 633\n",
            "PÁGINA 634\n",
            "PÁGINA 635\n",
            "PÁGINA 636\n",
            "PÁGINA 637\n",
            "PÁGINA 638\n",
            "PÁGINA 639\n",
            "PÁGINA 640\n",
            "PÁGINA 641\n",
            "PÁGINA 642\n",
            "PÁGINA 643\n",
            "PÁGINA 644\n",
            "PÁGINA 645\n",
            "PÁGINA 646\n",
            "PÁGINA 647\n",
            "PÁGINA 648\n",
            "PÁGINA 649\n",
            "PÁGINA 650\n",
            "PÁGINA 651\n",
            "PÁGINA 652\n",
            "PÁGINA 653\n",
            "PÁGINA 654\n",
            "PÁGINA 655\n",
            "PÁGINA 656\n",
            "PÁGINA 657\n",
            "PÁGINA 658\n",
            "PÁGINA 659\n",
            "PÁGINA 660\n",
            "PÁGINA 661\n",
            "PÁGINA 662\n",
            "PÁGINA 663\n",
            "PÁGINA 664\n",
            "PÁGINA 665\n",
            "PÁGINA 666\n",
            "PÁGINA 667\n",
            "No se pudo acceder a la página: https://www.latercera.com/lo-ultimo/page/667\n",
            "                     tag                                           headline\n",
            "0                Temblor  Temblor se registra en zona centro norte de Chile\n",
            "1              Pensiones  Gobierno pide aprobar la reforma previsional p...\n",
            "2                Energía  Subsidio eléctrico: Once académicos y expertos...\n",
            "3        Deuda Histórica  Senado despacha a ley proyecto que paga deuda ...\n",
            "4     Telecomunicaciones  Para evitar delitos: aprueban proyecto que obl...\n",
            "...                  ...                                                ...\n",
            "9985            Policial  Formalizan a cinco sujetos detenidos por tráfi...\n",
            "9986     Minuto a minuto  En vivo: Racing de Gabriel Arias se corona com...\n",
            "9987      Premier League  Guardiola sufre una de sus peores derrotas: el...\n",
            "9988       Automovilismo  A pesar de las malas decisiones de su escuderí...\n",
            "9989          Elecciones  Segunda vuelta de gobernadores regionales: has...\n",
            "\n",
            "[9990 rows x 2 columns]\n"
          ]
        }
      ]
    },
    {
      "cell_type": "markdown",
      "source": [
        "### Procesamiento de texto\n",
        "\n",
        "Limpieza y estructuración de datos textuales para ser analizados."
      ],
      "metadata": {
        "id": "W6UBIrJQZK07"
      }
    },
    {
      "cell_type": "code",
      "source": [
        "import nltk\n",
        "from nltk.corpus import stopwords\n",
        "from nltk.tokenize import word_tokenize\n",
        "from nltk.stem import WordNetLemmatizer"
      ],
      "metadata": {
        "id": "D6F8zxMJZVB5"
      },
      "execution_count": 15,
      "outputs": []
    },
    {
      "cell_type": "code",
      "source": [
        "nltk.download('punkt_tab')\n",
        "nltk.download('stopwords')\n",
        "nltk.download('wordnet')"
      ],
      "metadata": {
        "colab": {
          "base_uri": "https://localhost:8080/"
        },
        "id": "QFjKZrneZles",
        "outputId": "b7af122e-f1b7-4a8e-b147-dae6e27ccc6a"
      },
      "execution_count": 21,
      "outputs": [
        {
          "output_type": "stream",
          "name": "stderr",
          "text": [
            "[nltk_data] Downloading package punkt_tab to /root/nltk_data...\n",
            "[nltk_data]   Unzipping tokenizers/punkt_tab.zip.\n",
            "[nltk_data] Downloading package stopwords to /root/nltk_data...\n",
            "[nltk_data]   Package stopwords is already up-to-date!\n",
            "[nltk_data] Downloading package wordnet to /root/nltk_data...\n",
            "[nltk_data]   Package wordnet is already up-to-date!\n"
          ]
        },
        {
          "output_type": "execute_result",
          "data": {
            "text/plain": [
              "True"
            ]
          },
          "metadata": {},
          "execution_count": 21
        }
      ]
    },
    {
      "cell_type": "code",
      "source": [
        "lemmatizer = WordNetLemmatizer()\n",
        "stop_words = set(stopwords.words('spanish'))"
      ],
      "metadata": {
        "id": "K7dYKBwna1iL"
      },
      "execution_count": 16,
      "outputs": []
    },
    {
      "cell_type": "code",
      "source": [
        "def preprocess_text(text):\n",
        "  text = text.lower()\n",
        "  text = re.sub(r'[^\\w\\s]', '', text)\n",
        "  tokens = word_tokenize(text)\n",
        "  tokens = [lemmatizer.lemmatize(word) for word in tokens if word not in stop_words]\n",
        "\n",
        "  return tokens"
      ],
      "metadata": {
        "id": "a1daTy5ZcLD1"
      },
      "execution_count": 19,
      "outputs": []
    },
    {
      "cell_type": "code",
      "source": [
        "df['tokens'] = df['headline'].apply(preprocess_text)\n",
        "print(df[['headline', 'tokens']].head())"
      ],
      "metadata": {
        "colab": {
          "base_uri": "https://localhost:8080/"
        },
        "id": "QWQmXSXscz56",
        "outputId": "55557629-837d-4322-b541-72e626531e73"
      },
      "execution_count": 22,
      "outputs": [
        {
          "output_type": "stream",
          "name": "stdout",
          "text": [
            "                                            headline  \\\n",
            "0  Temblor se registra en zona centro norte de Chile   \n",
            "1  Gobierno pide aprobar la reforma previsional p...   \n",
            "2  Subsidio eléctrico: Once académicos y expertos...   \n",
            "3  Senado despacha a ley proyecto que paga deuda ...   \n",
            "4  Para evitar delitos: aprueban proyecto que obl...   \n",
            "\n",
            "                                              tokens  \n",
            "0    [temblor, registra, zona, centro, norte, chile]  \n",
            "1  [gobierno, pide, aprobar, reforma, previsional...  \n",
            "2  [subsidio, eléctrico, once, académicos, expert...  \n",
            "3  [senado, despacha, ley, proyecto, paga, deuda,...  \n",
            "4  [evitar, delitos, aprueban, proyecto, obliga, ...  \n"
          ]
        }
      ]
    },
    {
      "cell_type": "markdown",
      "source": [
        "Análisis de frecuencia de palabras"
      ],
      "metadata": {
        "id": "mtnaATJzdyWk"
      }
    },
    {
      "cell_type": "code",
      "source": [
        "from collections import Counter"
      ],
      "metadata": {
        "id": "EvMNSq__d1Ll"
      },
      "execution_count": 23,
      "outputs": []
    },
    {
      "cell_type": "code",
      "source": [
        "all_tokens = [word for tokens in df['tokens'] for word in tokens]\n",
        "word_counts = Counter(all_tokens)\n",
        "most_common_words = word_counts.most_common(20)\n",
        "\n",
        "print(f\"Palabras más comunes en los {len(df['headline'])} titulares leídos: {most_common_words}\")"
      ],
      "metadata": {
        "colab": {
          "base_uri": "https://localhost:8080/"
        },
        "id": "VlpOPEZTeGbO",
        "outputId": "8bbea529-77c1-410f-c1c7-3eec03724e4c"
      },
      "execution_count": 28,
      "outputs": [
        {
          "output_type": "stream",
          "name": "stdout",
          "text": [
            "Palabras más comunes en los 9990 titulares leídos: [('suscriptor', 2482), ('tras', 718), ('chile', 571), ('columna', 547), ('colo', 460), ('gobierno', 330), ('reforma', 313), ('nuevo', 289), ('boric', 281), ('2025', 278), ('años', 270), ('caso', 266), ('cómo', 252), ('presidente', 248), ('trump', 235), ('dónde', 221), ('año', 220), ('nueva', 210), ('pensiones', 197), ('ver', 189)]\n"
          ]
        }
      ]
    },
    {
      "cell_type": "markdown",
      "source": [
        "Visualización de palabras más comunes"
      ],
      "metadata": {
        "id": "2bFP1jhGfar8"
      }
    },
    {
      "cell_type": "code",
      "source": [
        "import matplotlib.pyplot as plt"
      ],
      "metadata": {
        "id": "v2YiHzkkffgP"
      },
      "execution_count": 25,
      "outputs": []
    },
    {
      "cell_type": "code",
      "source": [
        "words, counts = zip(*most_common_words)\n",
        "\n",
        "plt.figure(figsize=(10,6))\n",
        "plt.bar(words, counts, color='skyblue')\n",
        "plt.title('Palabras más frecuentes en los titulares de La Tercera')\n",
        "plt.xticks(rotation=45)\n",
        "plt.xlabel('Palabras')\n",
        "plt.ylabel('Frecuencia')\n",
        "plt.show()"
      ],
      "metadata": {
        "colab": {
          "base_uri": "https://localhost:8080/",
          "height": 612
        },
        "id": "8o5a3SrKf9B4",
        "outputId": "9510d2fe-8483-4f1c-d2e5-42f91115b23c"
      },
      "execution_count": 29,
      "outputs": [
        {
          "output_type": "display_data",
          "data": {
            "text/plain": [
              "<Figure size 1000x600 with 1 Axes>"
            ],
            "image/png": "[encoded data removed]"
          },
          "metadata": {}
        }
      ]
    },
    {
      "cell_type": "markdown",
      "source": [
        "Análisis de sentimientos"
      ],
      "metadata": {
        "id": "-phhBgIOh8OX"
      }
    },
    {
      "cell_type": "code",
      "source": [
        "from textblob import TextBlob\n",
        "from textblob.exceptions import NotTranslated"
      ],
      "metadata": {
        "id": "fB5vlfMih7vf"
      },
      "execution_count": 30,
      "outputs": []
    },
    {
      "cell_type": "code",
      "source": [
        "def sentiment_analysis(text):\n",
        "  try:\n",
        "    blob = TextBlob(text)\n",
        "    return blob.sentiment.polarity\n",
        "  except NotTranslated:\n",
        "    return None"
      ],
      "metadata": {
        "id": "ieoa0gaPiKpF"
      },
      "execution_count": 31,
      "outputs": []
    },
    {
      "cell_type": "code",
      "source": [
        "df['sentiment'] = df['headline'].apply(sentiment_analysis)\n",
        "\n",
        "avg_sentiment = df['sentiment'].mean()\n",
        "print(f\"Sentimiento promedio: {avg_sentiment}\")"
      ],
      "metadata": {
        "colab": {
          "base_uri": "https://localhost:8080/"
        },
        "id": "Bwg8RX4ijMXl",
        "outputId": "ac6e5765-45ee-4d47-f4f5-d4cb92a659eb"
      },
      "execution_count": 32,
      "outputs": [
        {
          "output_type": "stream",
          "name": "stdout",
          "text": [
            "Sentimiento promedio: 0.0025636553761553766\n"
          ]
        }
      ]
    },
    {
      "cell_type": "code",
      "source": [],
      "metadata": {
        "id": "6iJdAjXTjiZY"
      },
      "execution_count": null,
      "outputs": []
    }
  ]
}