{
  "nbformat": 4,
  "nbformat_minor": 0,
  "metadata": {
    "colab": {
      "provenance": [],
      "authorship_tag": "ABX9TyOKShF5ADmVHDhMy2pspXYT",
      "include_colab_link": true
    },
    "kernelspec": {
      "name": "python3",
      "display_name": "Python 3"
    },
    "language_info": {
      "name": "python"
    }
  },
  "cells": [
    {
      "cell_type": "markdown",
      "metadata": {
        "id": "view-in-github",
        "colab_type": "text"
      },
      "source": [
        "<a href=\"https://colab.research.google.com/github/diegooyarcet/headline-analysis/blob/main/headline_analysis.ipynb\" target=\"_parent\"><img src=\"https://colab.research.google.com/assets/colab-badge.svg\" alt=\"Open In Colab\"/></a>"
      ]
    },
    {
      "cell_type": "markdown",
      "source": [
        "# Headline Analysis"
      ],
      "metadata": {
        "id": "-CTaUmnNxDl5"
      }
    },
    {
      "cell_type": "markdown",
      "source": [
        "## LA TERCERA\n",
        "### Objetivo: Analizar el lenguaje utilizado en los titulares del diario La Tercera, específicamente aquellos que se encuentran en la sección \"Lo Último\", enfocándose en identificar patrones, temas frecuentes y características lingüísticas.\n",
        "\n",
        "### Herramientas:\n",
        "* Python\n",
        "* NLTK\n",
        "* BeautifulSoup (bs4)\n",
        "* requests\n",
        "* matplotlib\n",
        "* re\n",
        "* pandas"
      ],
      "metadata": {
        "id": "ZEvjqzPTxN23"
      }
    },
    {
      "cell_type": "code",
      "execution_count": 1,
      "metadata": {
        "colab": {
          "base_uri": "https://localhost:8080/"
        },
        "id": "1V7C2GxHwIV5",
        "outputId": "e141bb12-f34b-4075-f820-c3e74f63da9d"
      },
      "outputs": [
        {
          "output_type": "stream",
          "name": "stdout",
          "text": [
            "Requirement already satisfied: requests in /usr/local/lib/python3.11/dist-packages (2.32.3)\n",
            "Requirement already satisfied: beautifulsoup4 in /usr/local/lib/python3.11/dist-packages (4.12.3)\n",
            "Requirement already satisfied: pandas in /usr/local/lib/python3.11/dist-packages (2.2.2)\n",
            "Requirement already satisfied: charset-normalizer<4,>=2 in /usr/local/lib/python3.11/dist-packages (from requests) (3.4.1)\n",
            "Requirement already satisfied: idna<4,>=2.5 in /usr/local/lib/python3.11/dist-packages (from requests) (3.10)\n",
            "Requirement already satisfied: urllib3<3,>=1.21.1 in /usr/local/lib/python3.11/dist-packages (from requests) (2.3.0)\n",
            "Requirement already satisfied: certifi>=2017.4.17 in /usr/local/lib/python3.11/dist-packages (from requests) (2024.12.14)\n",
            "Requirement already satisfied: soupsieve>1.2 in /usr/local/lib/python3.11/dist-packages (from beautifulsoup4) (2.6)\n",
            "Requirement already satisfied: numpy>=1.23.2 in /usr/local/lib/python3.11/dist-packages (from pandas) (1.26.4)\n",
            "Requirement already satisfied: python-dateutil>=2.8.2 in /usr/local/lib/python3.11/dist-packages (from pandas) (2.8.2)\n",
            "Requirement already satisfied: pytz>=2020.1 in /usr/local/lib/python3.11/dist-packages (from pandas) (2024.2)\n",
            "Requirement already satisfied: tzdata>=2022.7 in /usr/local/lib/python3.11/dist-packages (from pandas) (2024.2)\n",
            "Requirement already satisfied: six>=1.5 in /usr/local/lib/python3.11/dist-packages (from python-dateutil>=2.8.2->pandas) (1.17.0)\n"
          ]
        }
      ],
      "source": [
        "!pip install requests beautifulsoup4 pandas"
      ]
    },
    {
      "cell_type": "code",
      "source": [
        "import requests\n",
        "import re\n",
        "from bs4 import BeautifulSoup\n",
        "import pandas as pd"
      ],
      "metadata": {
        "id": "HSp8QBgr3BZP"
      },
      "execution_count": 11,
      "outputs": []
    },
    {
      "cell_type": "code",
      "source": [
        "url = 'https://www.latercera.com/lo-ultimo'"
      ],
      "metadata": {
        "id": "__8Wp13D3Jom"
      },
      "execution_count": 5,
      "outputs": []
    },
    {
      "cell_type": "code",
      "source": [
        "try:\n",
        "  response = requests.get(url)\n",
        "except Exception as exc:\n",
        "  print(f\"Error: {exc}\")"
      ],
      "metadata": {
        "id": "jXbScgat32ft"
      },
      "execution_count": 10,
      "outputs": []
    },
    {
      "cell_type": "code",
      "source": [
        "if response.status_code == 200:\n",
        "  print(\"Solicitud exitosa\")\n",
        "  html_content = response.text\n",
        "else:\n",
        "  print(f\"Error en la solicitud. Código de estado: {response.status_code}\")"
      ],
      "metadata": {
        "colab": {
          "base_uri": "https://localhost:8080/"
        },
        "id": "MM3D6fhV-SWZ",
        "outputId": "100fe942-110e-4318-b6f7-41abc4acda7c"
      },
      "execution_count": 12,
      "outputs": [
        {
          "output_type": "stream",
          "name": "stdout",
          "text": [
            "Solicitud exitosa\n"
          ]
        }
      ]
    },
    {
      "cell_type": "code",
      "source": [
        "lo_ultimo = BeautifulSoup(html_content, 'html.parser')\n",
        "paginator = lo_ultimo.find('div', class_='pagination')\n",
        "nav_paginator = paginator.find('nav')\n",
        "ul_paginator = nav_paginator.find('ul')\n",
        "pagination_info = ul_paginator.find('li', class_='pagination-info')\n",
        "text_pagination_info = pagination_info.get_text(strip=True)\n",
        "match = re.search(r\"de\\s+(\\d+)\", text_pagination_info)\n",
        "\n",
        "if match:\n",
        "  total_paginas = int(match.group(1))\n",
        "  print(f\"Número total de páginas: {total_paginas}\")\n",
        "else:\n",
        "  print(\"No se encontró el patrón de número de páginas en el texto.\")"
      ],
      "metadata": {
        "colab": {
          "base_uri": "https://localhost:8080/"
        },
        "id": "aLSf6YA06iTj",
        "outputId": "ae853c2c-5371-4331-9443-ebca46c8c1c7"
      },
      "execution_count": 13,
      "outputs": [
        {
          "output_type": "stream",
          "name": "stdout",
          "text": [
            "Número total de páginas: 667\n"
          ]
        }
      ]
    },
    {
      "cell_type": "code",
      "source": [
        "for pagina in range(1, total_paginas):\n",
        "  url_pagina = f\"{url}/page/{pagina}\"\n",
        "  response = requests.get(url_pagina)"
      ],
      "metadata": {
        "id": "RzsjtPlw-ir6"
      },
      "execution_count": null,
      "outputs": []
    }
  ]
}