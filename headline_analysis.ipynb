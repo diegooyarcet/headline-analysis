{
  "nbformat": 4,
  "nbformat_minor": 0,
  "metadata": {
    "colab": {
      "provenance": [],
      "authorship_tag": "ABX9TyP819EJpgFfLuBf/PVGfQDu",
      "include_colab_link": true
    },
    "kernelspec": {
      "name": "python3",
      "display_name": "Python 3"
    },
    "language_info": {
      "name": "python"
    }
  },
  "cells": [
    {
      "cell_type": "markdown",
      "metadata": {
        "id": "view-in-github",
        "colab_type": "text"
      },
      "source": [
        "<a href=\"https://colab.research.google.com/github/diegooyarcet/headline-analysis/blob/main/headline_analysis.ipynb\" target=\"_parent\"><img src=\"https://colab.research.google.com/assets/colab-badge.svg\" alt=\"Open In Colab\"/></a>"
      ]
    },
    {
      "cell_type": "markdown",
      "source": [
        "# Headline Analysis"
      ],
      "metadata": {
        "id": "-CTaUmnNxDl5"
      }
    },
    {
      "cell_type": "markdown",
      "source": [
        "## LA TERCERA\n",
        "### Objetivo: Analizar el lenguaje utilizado en los titulares del diario La Tercera, específicamente aquellos que se encuentran en la sección \"Lo Último\", enfocándose en identificar patrones, temas frecuentes y características lingüísticas.\n",
        "\n",
        "### Herramientas:\n",
        "* Python\n",
        "* NLTK\n",
        "* BeautifulSoup (bs4)\n",
        "* requests\n",
        "* matplotlib\n",
        "* re\n",
        "* pandas"
      ],
      "metadata": {
        "id": "ZEvjqzPTxN23"
      }
    },
    {
      "cell_type": "code",
      "execution_count": 1,
      "metadata": {
        "colab": {
          "base_uri": "https://localhost:8080/"
        },
        "id": "1V7C2GxHwIV5",
        "outputId": "60b2d017-f23a-4a0c-9e45-95ccf3f3cdad"
      },
      "outputs": [
        {
          "output_type": "stream",
          "name": "stdout",
          "text": [
            "Requirement already satisfied: requests in /usr/local/lib/python3.11/dist-packages (2.32.3)\n",
            "Requirement already satisfied: beautifulsoup4 in /usr/local/lib/python3.11/dist-packages (4.12.3)\n",
            "Requirement already satisfied: pandas in /usr/local/lib/python3.11/dist-packages (2.2.2)\n",
            "Requirement already satisfied: charset-normalizer<4,>=2 in /usr/local/lib/python3.11/dist-packages (from requests) (3.4.1)\n",
            "Requirement already satisfied: idna<4,>=2.5 in /usr/local/lib/python3.11/dist-packages (from requests) (3.10)\n",
            "Requirement already satisfied: urllib3<3,>=1.21.1 in /usr/local/lib/python3.11/dist-packages (from requests) (2.3.0)\n",
            "Requirement already satisfied: certifi>=2017.4.17 in /usr/local/lib/python3.11/dist-packages (from requests) (2024.12.14)\n",
            "Requirement already satisfied: soupsieve>1.2 in /usr/local/lib/python3.11/dist-packages (from beautifulsoup4) (2.6)\n",
            "Requirement already satisfied: numpy>=1.23.2 in /usr/local/lib/python3.11/dist-packages (from pandas) (1.26.4)\n",
            "Requirement already satisfied: python-dateutil>=2.8.2 in /usr/local/lib/python3.11/dist-packages (from pandas) (2.8.2)\n",
            "Requirement already satisfied: pytz>=2020.1 in /usr/local/lib/python3.11/dist-packages (from pandas) (2024.2)\n",
            "Requirement already satisfied: tzdata>=2022.7 in /usr/local/lib/python3.11/dist-packages (from pandas) (2024.2)\n",
            "Requirement already satisfied: six>=1.5 in /usr/local/lib/python3.11/dist-packages (from python-dateutil>=2.8.2->pandas) (1.17.0)\n"
          ]
        }
      ],
      "source": [
        "!pip install requests beautifulsoup4 pandas"
      ]
    },
    {
      "cell_type": "code",
      "source": [
        "import requests\n",
        "import re\n",
        "from bs4 import BeautifulSoup\n",
        "import pandas as pd"
      ],
      "metadata": {
        "id": "HSp8QBgr3BZP"
      },
      "execution_count": 2,
      "outputs": []
    },
    {
      "cell_type": "code",
      "source": [
        "url = 'https://www.latercera.com/lo-ultimo'"
      ],
      "metadata": {
        "id": "__8Wp13D3Jom"
      },
      "execution_count": 3,
      "outputs": []
    },
    {
      "cell_type": "code",
      "source": [
        "df = pd.DataFrame(columns=['tag', 'headline'])"
      ],
      "metadata": {
        "id": "SG3Y3cVi_tDw"
      },
      "execution_count": 4,
      "outputs": []
    },
    {
      "cell_type": "code",
      "source": [
        "try:\n",
        "  response = requests.get(url)\n",
        "except Exception as exc:\n",
        "  print(f\"Error: {exc}\")"
      ],
      "metadata": {
        "id": "jXbScgat32ft"
      },
      "execution_count": 5,
      "outputs": []
    },
    {
      "cell_type": "code",
      "source": [
        "if response.status_code == 200:\n",
        "  print(\"Solicitud exitosa\")\n",
        "  html_content = response.text\n",
        "else:\n",
        "  print(f\"Error en la solicitud. Código de estado: {response.status_code}\")"
      ],
      "metadata": {
        "colab": {
          "base_uri": "https://localhost:8080/"
        },
        "id": "MM3D6fhV-SWZ",
        "outputId": "dafbbce6-e1c2-4cc4-f3a2-9b77c4c28c74"
      },
      "execution_count": 6,
      "outputs": [
        {
          "output_type": "stream",
          "name": "stdout",
          "text": [
            "Solicitud exitosa\n"
          ]
        }
      ]
    },
    {
      "cell_type": "code",
      "source": [
        "lo_ultimo = BeautifulSoup(html_content, 'html.parser')\n",
        "paginator = lo_ultimo.find('div', class_='pagination')\n",
        "nav_paginator = paginator.find('nav')\n",
        "ul_paginator = nav_paginator.find('ul')\n",
        "pagination_info = ul_paginator.find('li', class_='pagination-info')\n",
        "text_pagination_info = pagination_info.get_text(strip=True)\n",
        "match = re.search(r\"de\\s+(\\d+)\", text_pagination_info)\n",
        "\n",
        "if match:\n",
        "  total_paginas = int(match.group(1))\n",
        "  print(f\"Número total de páginas: {total_paginas}\")\n",
        "else:\n",
        "  print(\"No se encontró el patrón de número de páginas en el texto.\")"
      ],
      "metadata": {
        "colab": {
          "base_uri": "https://localhost:8080/"
        },
        "id": "aLSf6YA06iTj",
        "outputId": "fd166de2-84b7-40bc-c579-305e981069b6"
      },
      "execution_count": 7,
      "outputs": [
        {
          "output_type": "stream",
          "name": "stdout",
          "text": [
            "Número total de páginas: 667\n"
          ]
        }
      ]
    },
    {
      "cell_type": "code",
      "source": [
        "df = df[0:0]"
      ],
      "metadata": {
        "id": "gd0RZo9GFmpV"
      },
      "execution_count": 11,
      "outputs": []
    },
    {
      "cell_type": "code",
      "source": [
        "total_paginas = 2\n",
        "for pagina in range(1, total_paginas + 1):\n",
        "  print(f\"PÁGINA {pagina}\")\n",
        "  url_pagina = f\"{url}/page/{pagina}\"\n",
        "  response = requests.get(url_pagina)\n",
        "\n",
        "  if response.status_code == 200:\n",
        "    html_lo_ultimo = response.text\n",
        "    soup_lo_ultimo = BeautifulSoup(html_lo_ultimo, 'html.parser')\n",
        "\n",
        "    if soup_lo_ultimo:\n",
        "      section_lo_ultimo = soup_lo_ultimo.find('section', class_='top-mainy')\n",
        "\n",
        "      if section_lo_ultimo:\n",
        "        div_headlines = section_lo_ultimo.find_all('div', class_='headline | width_full hl')\n",
        "\n",
        "        if len(div_headlines) > 0:\n",
        "          for headline in div_headlines:\n",
        "            tag = ''\n",
        "            titular = ''\n",
        "            h3_headline = headline.find('h3')\n",
        "\n",
        "            if h3_headline:\n",
        "              anchor_headline = h3_headline.find('a')\n",
        "\n",
        "              if anchor_headline:\n",
        "                tag_element = anchor_headline.find('span', class_='tag')\n",
        "\n",
        "                if tag_element:\n",
        "                  tag = tag_element.get_text(strip=True)\n",
        "                else:\n",
        "                  tag = ''\n",
        "                  print(\"No hay tag\")\n",
        "\n",
        "                titular = anchor_headline.get_text(strip=True)\n",
        "\n",
        "                if titular:\n",
        "                  titular = titular.replace(tag, '', 1).strip()\n",
        "                else:\n",
        "                  titular = ''\n",
        "                  print(\"No hay titular\")\n",
        "\n",
        "                df.loc[len(df)] = [tag, titular]\n",
        "              else:\n",
        "                print(\"No se encontró el h3\")\n",
        "            else:\n",
        "              print(\"No se encontró el anchor\")\n",
        "        else:\n",
        "          print(f\"No se encontraron titulares en la página {pagina}\")\n",
        "      else:\n",
        "        print(f\"No se encontró el section de títulares de la página {pagina}\")\n",
        "    else:\n",
        "      print(f\"No se encontro el soup de la página {pagina}\")\n",
        "  else:\n",
        "    print(f\"No se pudo acceder a la página: {url_pagina}\")\n",
        "\n",
        "print(df)"
      ],
      "metadata": {
        "id": "RzsjtPlw-ir6",
        "colab": {
          "base_uri": "https://localhost:8080/"
        },
        "collapsed": true,
        "outputId": "9184c747-1d0b-4d1b-b226-1fcad86d7452"
      },
      "execution_count": 12,
      "outputs": [
        {
          "output_type": "stream",
          "name": "stdout",
          "text": [
            "PÁGINA 1\n",
            "PÁGINA 2\n",
            "                        tag                                           headline\n",
            "0                 Elon Musk  “Nazi, las pelotas”: la férrea defensa de Javi...\n",
            "1                      La U  Con show de drones incluido: la U presenta su ...\n",
            "2                 Marejadas  Emiten nuevo aviso de marejadas para las costa...\n",
            "3                    EE.UU.  Trump advierte más sanciones a Rusia si Putin ...\n",
            "4                 Venezuela  Familiares de presos políticos en Venezuela pi...\n",
            "5      Ley de Transparencia  Instruyen investigaciones sumarias en tres sub...\n",
            "6                    Fútbol  “No dan los plazos para que se juegue”: Sifup ...\n",
            "7                    EE.UU.  Trump autoriza a agentes federales de inmigrac...\n",
            "8          Hablemos de amor  Mis éxitos profesionales se empezaron a transf...\n",
            "9      Incendios forestales  Incendios forestales: Chile registra 17 olas d...\n",
            "10                   Fútbol  Colo Colo define su último fichaje: Tomás Alar...\n",
            "11  Correos de los Lectores  Interpelación a ministra de SaludExclusivo sus...\n",
            "12  Correos de los Lectores       PAES y educación públicaExclusivo suscriptor\n",
            "13     Reforma de Pensiones  Acuerdo de pensiones tambalea en la Cámara: Fr...\n",
            "14  Correos de los Lectores  Los problemas centrales del acuerdo de pension...\n",
            "15        Partido Comunista  Nuevo comité central: el sube y baja de las fu...\n",
            "16             Donald Trump  El drama en la frontera de México con EE.UU. t...\n",
            "17                   Crispi  Socialismo Democrático pierde la paciencia e i...\n",
            "18                Editorial        Incierta tregua en GazaExclusivo suscriptor\n",
            "19                Pedagogía        Matrículas en PedagogíaExclusivo suscriptor\n",
            "20                   EE.UU.  Dentro de la Oficina Oval de Trump: versión 2....\n",
            "21                 Política  RN inicia trabajo programático con el equipo d...\n",
            "22                  Francia  Columna de Cyrille Rogeau: A 50 años de la ley...\n",
            "23  Correos de los Lectores       Discurso de Donald TrumpExclusivo suscriptor\n",
            "24  Correos de los Lectores                  Trump y ParraExclusivo suscriptor\n",
            "25                    Salud  Alza de consultas de urgencia es atribuida a e...\n",
            "26      Reforma previsional  Reforma de pensiones: compromisos adquiridos p...\n",
            "27                Seguridad  Del “Ha generado más seguridad” al “No consta ...\n",
            "28         Sistema Político  Senado aprueba idea de legislar de reforma al ...\n",
            "29                 Negocios  Abogado de Antonio Jalaff acusa a Fiscalía de ...\n"
          ]
        }
      ]
    }
  ]
}